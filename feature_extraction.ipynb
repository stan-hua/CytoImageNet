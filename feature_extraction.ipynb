{
 "cells": [
  {
   "cell_type": "code",
   "execution_count": null,
   "id": "71d3006d",
   "metadata": {},
   "outputs": [],
   "source": [
    "from tensorflow.keras.applications.efficientnet import EfficientNetB0\n",
    "from tensorflow.keras.preprocessing.image import ImageDataGenerator\n",
    "import tensorflow as tf\n",
    "\n",
    "import cv2\n",
    "import glob\n",
    "\n",
    "import pandas as pd"
   ]
  },
  {
   "cell_type": "markdown",
   "id": "0336fad8",
   "metadata": {},
   "source": [
    "### Load Model"
   ]
  },
  {
   "cell_type": "code",
   "execution_count": null,
   "id": "2cd1c93e",
   "metadata": {},
   "outputs": [],
   "source": [
    "weights_path = \"path/to/weights/efficientnetb0_weights-notop.h5\"\n",
    "model = EfficientNetB0(weights=weights_path,\n",
    "                       include_top=False,\n",
    "                       input_shape=(None, None, 3),\n",
    "                       pooling=\"avg\")"
   ]
  },
  {
   "cell_type": "markdown",
   "id": "942134cc",
   "metadata": {},
   "source": [
    "#### Example 1. Extract features for an image"
   ]
  },
  {
   "cell_type": "code",
   "execution_count": null,
   "id": "00a66422",
   "metadata": {},
   "outputs": [],
   "source": [
    "# Load image\n",
    "img_path = \"path/to/image/img\"\n",
    "img = cv2.imread(img_path)\n",
    "\n",
    "# Extract 1280-dimensional features from an image\n",
    "features = model.predict(img)"
   ]
  },
  {
   "cell_type": "markdown",
   "id": "25775ed3",
   "metadata": {},
   "source": [
    "\n",
    "\n",
    "\n",
    "\n",
    "\n",
    "\n",
    "\n",
    "\n"
   ]
  },
  {
   "cell_type": "markdown",
   "id": "e3b6e6d3",
   "metadata": {},
   "source": [
    "\n",
    "\n",
    "\n",
    "\n",
    "\n",
    "\n",
    "\n",
    "\n"
   ]
  },
  {
   "cell_type": "markdown",
   "id": "b1c7a6fe",
   "metadata": {},
   "source": [
    "\n",
    "\n",
    "\n",
    "\n",
    "\n",
    "\n",
    "\n",
    "\n"
   ]
  },
  {
   "cell_type": "markdown",
   "id": "03860b13",
   "metadata": {},
   "source": [
    "\n",
    "\n",
    "\n",
    "\n",
    "\n",
    "\n",
    "\n",
    "\n"
   ]
  },
  {
   "cell_type": "markdown",
   "id": "0124999e",
   "metadata": {},
   "source": [
    "#### Example 2. Extract features for a folder of images"
   ]
  },
  {
   "cell_type": "code",
   "execution_count": null,
   "id": "b89bdb9b",
   "metadata": {},
   "outputs": [],
   "source": [
    "# Path to image folder\n",
    "folder_path = \"path/to/image/folder/\"\n",
    "\n",
    "# Create efficient data generators\n",
    "data_generator = ImageGenerator().flow_from_directory(folder_path, class_mode=None)\n",
    "ds_data_generator = tf.data.Dataset.from_generator(lambda: data_generator, output_types=(tf.float32))\n",
    "ds_data_generator = ds_data_generator.prefetch(buffer_size=tf.data.experimental.AUTOTUNE)\n",
    "steps_to_predict = ceil(len(data_generator) / batch_size)\n",
    "\n",
    "# Extract 1280-dimensional features from each image\n",
    "all_features = model.predict(ds_data_generator, steps=steps_to_predict)\n",
    "\n",
    "# Save features. Each row is a 1280-dim feature vector corresponding to an image.\n",
    "df_features = pd.DataFrame(all_features)\n",
    "df_features.to_hdf(\"path/to/save/features.h5\")"
   ]
  }
 ],
 "metadata": {
  "kernelspec": {
   "display_name": "Python 3",
   "language": "python",
   "name": "python3"
  },
  "language_info": {
   "codemirror_mode": {
    "name": "ipython",
    "version": 3
   },
   "file_extension": ".py",
   "mimetype": "text/x-python",
   "name": "python",
   "nbconvert_exporter": "python",
   "pygments_lexer": "ipython3",
   "version": "3.8.8"
  }
 },
 "nbformat": 4,
 "nbformat_minor": 5
}
